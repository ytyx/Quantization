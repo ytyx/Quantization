{
  "nbformat": 4,
  "nbformat_minor": 0,
  "metadata": {
    "colab": {
      "provenance": []
    },
    "kernelspec": {
      "name": "python3",
      "display_name": "Python 3"
    },
    "language_info": {
      "name": "python"
    }
  },
  "cells": [
    {
      "cell_type": "markdown",
      "source": [
        "# Quantization Fundamentals for Model Compression"
      ],
      "metadata": {
        "id": "g1S2xyOA5vUX"
      }
    },
    {
      "cell_type": "code",
      "execution_count": 28,
      "metadata": {
        "id": "kkG1KpzyyOxa"
      },
      "outputs": [],
      "source": [
        "# !pip install torch==2.1.1\n",
        "# !pip install transformers==4.35.0\n",
        "#!pip install quanto==0.0.11"
      ]
    },
    {
      "cell_type": "code",
      "source": [
        "import torch"
      ],
      "metadata": {
        "id": "CnnA4PXgRpQy"
      },
      "execution_count": null,
      "outputs": []
    },
    {
      "cell_type": "markdown",
      "source": [
        "## Downcasting"
      ],
      "metadata": {
        "id": "SNvSwXKpRl8F"
      }
    },
    {
      "cell_type": "markdown",
      "source": [
        "Get a random pytorch tensor with float32 and size=100"
      ],
      "metadata": {
        "id": "NhIwtiQXSEPU"
      }
    },
    {
      "cell_type": "code",
      "source": [
        "tensor_fp32 = torch.rand(100, dtype = torch.float32)"
      ],
      "metadata": {
        "id": "2iZDcGv9Rlhq"
      },
      "execution_count": null,
      "outputs": []
    },
    {
      "cell_type": "code",
      "source": [
        "tensor_fp32[:5]"
      ],
      "metadata": {
        "colab": {
          "base_uri": "https://localhost:8080/"
        },
        "id": "YbGcOF8iSTmo",
        "outputId": "173cce2a-5474-4287-80c4-2b46c12c96c6"
      },
      "execution_count": null,
      "outputs": [
        {
          "output_type": "execute_result",
          "data": {
            "text/plain": [
              "tensor([0.6573, 0.7227, 0.5918, 0.5869, 0.6816])"
            ]
          },
          "metadata": {},
          "execution_count": 4
        }
      ]
    },
    {
      "cell_type": "markdown",
      "source": [
        "Let's downcast the tensor to bfloat16 using the \"to\" method"
      ],
      "metadata": {
        "id": "VTO7tOs8SKsi"
      }
    },
    {
      "cell_type": "code",
      "source": [
        "tensor_fp32_to_bf16 = tensor_fp32.to(dtype = torch.bfloat16)"
      ],
      "metadata": {
        "id": "_ecSxUldSC3d"
      },
      "execution_count": null,
      "outputs": []
    },
    {
      "cell_type": "code",
      "source": [
        "tensor_fp32_to_bf16[:5]"
      ],
      "metadata": {
        "colab": {
          "base_uri": "https://localhost:8080/"
        },
        "id": "z09DzIGtSR8_",
        "outputId": "ab694e8d-bffe-4111-c7fb-d0c0c49436c8"
      },
      "execution_count": null,
      "outputs": [
        {
          "output_type": "execute_result",
          "data": {
            "text/plain": [
              "tensor([0.6562, 0.7227, 0.5898, 0.5859, 0.6797], dtype=torch.bfloat16)"
            ]
          },
          "metadata": {},
          "execution_count": 6
        }
      ]
    },
    {
      "cell_type": "markdown",
      "source": [
        "## Compare Models in Different Dtypes"
      ],
      "metadata": {
        "id": "zJKpTUwny_is"
      }
    },
    {
      "cell_type": "code",
      "source": [
        "from transformers import BertForMaskedLM, BertTokenizer\n",
        "\n",
        "# Initialize a tokenizer and a pre-trained BERT model\n",
        "tokenizer = BertTokenizer.from_pretrained(\"bert-base-uncased\")\n",
        "model = BertForMaskedLM.from_pretrained(\"bert-base-uncased\")"
      ],
      "metadata": {
        "colab": {
          "base_uri": "https://localhost:8080/"
        },
        "id": "q087S7ILStK4",
        "outputId": "6b7acf10-725d-46d8-ba4f-20b443f285cd"
      },
      "execution_count": null,
      "outputs": [
        {
          "output_type": "stream",
          "name": "stderr",
          "text": [
            "Some weights of the model checkpoint at bert-base-uncased were not used when initializing BertForMaskedLM: ['bert.pooler.dense.bias', 'bert.pooler.dense.weight', 'cls.seq_relationship.bias', 'cls.seq_relationship.weight']\n",
            "- This IS expected if you are initializing BertForMaskedLM from the checkpoint of a model trained on another task or with another architecture (e.g. initializing a BertForSequenceClassification model from a BertForPreTraining model).\n",
            "- This IS NOT expected if you are initializing BertForMaskedLM from the checkpoint of a model that you expect to be exactly identical (initializing a BertForSequenceClassification model from a BertForSequenceClassification model).\n"
          ]
        }
      ]
    },
    {
      "cell_type": "code",
      "source": [
        "# Tokenize an example text\n",
        "text = \"Let's compare the memory footprint of open-source models to understand the impact of different data types for a language task. In this blog we use BertForMaskedLM for example, if you would like to explore different modalities, the course uses BlipForConditionalGeneration for images.\"\n",
        "input_ids = tokenizer(text, return_tensors=\"pt\").input_ids"
      ],
      "metadata": {
        "id": "hO3FIG5mYVVO"
      },
      "execution_count": null,
      "outputs": []
    },
    {
      "cell_type": "code",
      "source": [
        "# Get logits from the original FP32 model\n",
        "logits_fp32 = model(input_ids).logits\n",
        "\n",
        "# Convert to BF16\n",
        "model_bf16 = model.to(torch.bfloat16)\n",
        "\n",
        "# Get logits from the BF16 models\n",
        "logits_bf16 = model_bf16(input_ids).logits"
      ],
      "metadata": {
        "id": "_YSsK6DlYZXO"
      },
      "execution_count": null,
      "outputs": []
    },
    {
      "cell_type": "code",
      "source": [
        "# Calculate mean and max differences between FP32 and BF16\n",
        "mean_diff = torch.abs(logits_bf16 - logits_fp32).mean().item()\n",
        "max_diff = torch.abs(logits_bf16 - logits_fp32).max().item()\n",
        "\n",
        "print(\"Mean difference between FP32 and BF16:\", mean_diff)\n",
        "print(\"Max difference between FP32 and BF16:\", max_diff)"
      ],
      "metadata": {
        "colab": {
          "base_uri": "https://localhost:8080/"
        },
        "id": "AGcLv1LiTA7G",
        "outputId": "185b324d-c497-44d2-8a8f-89aff61c0a55"
      },
      "execution_count": null,
      "outputs": [
        {
          "output_type": "stream",
          "name": "stdout",
          "text": [
            "Mean difference between FP32 and BF16: 0.03718937560915947\n",
            "Max difference between FP32 and BF16: 0.4945411682128906\n"
          ]
        }
      ]
    },
    {
      "cell_type": "markdown",
      "source": [
        "### Compare memory footprint"
      ],
      "metadata": {
        "id": "5pvtDYbBc1WB"
      }
    },
    {
      "cell_type": "code",
      "source": [
        "model = BertForMaskedLM.from_pretrained(\"bert-base-uncased\")"
      ],
      "metadata": {
        "colab": {
          "base_uri": "https://localhost:8080/"
        },
        "id": "tEai1oGvcTON",
        "outputId": "8669c96f-b053-4ac2-bf08-08c2ad7a4764"
      },
      "execution_count": null,
      "outputs": [
        {
          "output_type": "stream",
          "name": "stderr",
          "text": [
            "Some weights of the model checkpoint at bert-base-uncased were not used when initializing BertForMaskedLM: ['bert.pooler.dense.bias', 'bert.pooler.dense.weight', 'cls.seq_relationship.bias', 'cls.seq_relationship.weight']\n",
            "- This IS expected if you are initializing BertForMaskedLM from the checkpoint of a model trained on another task or with another architecture (e.g. initializing a BertForSequenceClassification model from a BertForPreTraining model).\n",
            "- This IS NOT expected if you are initializing BertForMaskedLM from the checkpoint of a model that you expect to be exactly identical (initializing a BertForSequenceClassification model from a BertForSequenceClassification model).\n"
          ]
        },
        {
          "output_type": "stream",
          "name": "stdout",
          "text": [
            "Footprint of the fp32 model in bytes:  438065384\n",
            "Footprint of the fp32 model in MBs:  438.065384\n"
          ]
        }
      ]
    },
    {
      "cell_type": "code",
      "source": [
        "fp32_mem_footprint = model.get_memory_footprint()\n",
        "print(\"Footprint of the fp32 model in bytes: \",\n",
        "      fp32_mem_footprint)\n",
        "print(\"Footprint of the fp32 model in MBs: \",\n",
        "      fp32_mem_footprint/1e+6)"
      ],
      "metadata": {
        "id": "ne2tzHN8dpZn"
      },
      "execution_count": null,
      "outputs": []
    },
    {
      "cell_type": "code",
      "source": [
        "model_bf16 = BertForMaskedLM.from_pretrained(\"bert-base-uncased\",\n",
        "                               torch_dtype=torch.bfloat16,\n",
        "                               ignore_mismatched_sizes=True)"
      ],
      "metadata": {
        "colab": {
          "base_uri": "https://localhost:8080/"
        },
        "id": "fXiQb8tYdEWr",
        "outputId": "bf4376a0-1158-4e0f-af76-95fd3707909b"
      },
      "execution_count": null,
      "outputs": [
        {
          "output_type": "stream",
          "name": "stderr",
          "text": [
            "Some weights of the model checkpoint at bert-base-uncased were not used when initializing BertForMaskedLM: ['bert.pooler.dense.bias', 'bert.pooler.dense.weight', 'cls.seq_relationship.bias', 'cls.seq_relationship.weight']\n",
            "- This IS expected if you are initializing BertForMaskedLM from the checkpoint of a model trained on another task or with another architecture (e.g. initializing a BertForSequenceClassification model from a BertForPreTraining model).\n",
            "- This IS NOT expected if you are initializing BertForMaskedLM from the checkpoint of a model that you expect to be exactly identical (initializing a BertForSequenceClassification model from a BertForSequenceClassification model).\n"
          ]
        },
        {
          "output_type": "stream",
          "name": "stdout",
          "text": [
            "Footprint of the bf16 model in MBs:  219.036788\n",
            "Relative diff: 0.500009350202389\n"
          ]
        }
      ]
    },
    {
      "cell_type": "code",
      "source": [
        "bf16_mem_footprint = model_bf16.get_memory_footprint()\n",
        "\n",
        "# Get the relative difference\n",
        "relative_diff = bf16_mem_footprint / fp32_mem_footprint\n",
        "\n",
        "print(\"Footprint of the bf16 model in MBs: \",\n",
        "      bf16_mem_footprint/1e+6)\n",
        "print(f\"Relative diff: {relative_diff}\")"
      ],
      "metadata": {
        "id": "X-bYFKE6drID"
      },
      "execution_count": null,
      "outputs": []
    },
    {
      "cell_type": "markdown",
      "source": [
        "## Quanto Library"
      ],
      "metadata": {
        "id": "QgMZVEq1eTnA"
      }
    },
    {
      "cell_type": "code",
      "source": [
        "from quanto import quantize, freeze"
      ],
      "metadata": {
        "id": "G55JyDS-eT7d"
      },
      "execution_count": null,
      "outputs": []
    },
    {
      "cell_type": "markdown",
      "source": [
        "Let's see how to quantize the model in 8-bit precision"
      ],
      "metadata": {
        "id": "4xV7o7dwfL1t"
      }
    },
    {
      "cell_type": "code",
      "source": [
        "quantize(model, weights=torch.int8, activations=None)\n",
        "print(model)"
      ],
      "metadata": {
        "colab": {
          "base_uri": "https://localhost:8080/"
        },
        "id": "kGPqWae_eVKX",
        "outputId": "e0b36e6f-332e-498e-d427-ca560047c801"
      },
      "execution_count": null,
      "outputs": [
        {
          "output_type": "stream",
          "name": "stdout",
          "text": [
            "BertForMaskedLM(\n",
            "  (bert): BertModel(\n",
            "    (embeddings): BertEmbeddings(\n",
            "      (word_embeddings): Embedding(30522, 768, padding_idx=0)\n",
            "      (position_embeddings): Embedding(512, 768)\n",
            "      (token_type_embeddings): Embedding(2, 768)\n",
            "      (LayerNorm): LayerNorm((768,), eps=1e-12, elementwise_affine=True)\n",
            "      (dropout): Dropout(p=0.1, inplace=False)\n",
            "    )\n",
            "    (encoder): BertEncoder(\n",
            "      (layer): ModuleList(\n",
            "        (0-11): 12 x BertLayer(\n",
            "          (attention): BertAttention(\n",
            "            (self): BertSelfAttention(\n",
            "              (query): QLinear(in_features=768, out_features=768, bias=True)\n",
            "              (key): QLinear(in_features=768, out_features=768, bias=True)\n",
            "              (value): QLinear(in_features=768, out_features=768, bias=True)\n",
            "              (dropout): Dropout(p=0.1, inplace=False)\n",
            "            )\n",
            "            (output): BertSelfOutput(\n",
            "              (dense): QLinear(in_features=768, out_features=768, bias=True)\n",
            "              (LayerNorm): LayerNorm((768,), eps=1e-12, elementwise_affine=True)\n",
            "              (dropout): Dropout(p=0.1, inplace=False)\n",
            "            )\n",
            "          )\n",
            "          (intermediate): BertIntermediate(\n",
            "            (dense): QLinear(in_features=768, out_features=3072, bias=True)\n",
            "            (intermediate_act_fn): GELUActivation()\n",
            "          )\n",
            "          (output): BertOutput(\n",
            "            (dense): QLinear(in_features=3072, out_features=768, bias=True)\n",
            "            (LayerNorm): LayerNorm((768,), eps=1e-12, elementwise_affine=True)\n",
            "            (dropout): Dropout(p=0.1, inplace=False)\n",
            "          )\n",
            "        )\n",
            "      )\n",
            "    )\n",
            "  )\n",
            "  (cls): BertOnlyMLMHead(\n",
            "    (predictions): BertLMPredictionHead(\n",
            "      (transform): BertPredictionHeadTransform(\n",
            "        (dense): QLinear(in_features=768, out_features=768, bias=True)\n",
            "        (transform_act_fn): GELUActivation()\n",
            "        (LayerNorm): LayerNorm((768,), eps=1e-12, elementwise_affine=True)\n",
            "      )\n",
            "      (decoder): QLinear(in_features=768, out_features=30522, bias=True)\n",
            "    )\n",
            "  )\n",
            ")\n"
          ]
        }
      ]
    },
    {
      "cell_type": "code",
      "source": [
        "freeze(model)"
      ],
      "metadata": {
        "id": "BLEErikce3Hs"
      },
      "execution_count": null,
      "outputs": []
    }
  ]
}