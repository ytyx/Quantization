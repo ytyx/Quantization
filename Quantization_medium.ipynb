{
  "nbformat": 4,
  "nbformat_minor": 0,
  "metadata": {
    "colab": {
      "provenance": []
    },
    "kernelspec": {
      "name": "python3",
      "display_name": "Python 3"
    },
    "language_info": {
      "name": "python"
    }
  },
  "cells": [
    {
      "cell_type": "markdown",
      "source": [
        "# Quantization Fundamentals for Model Compression"
      ],
      "metadata": {
        "id": "g1S2xyOA5vUX"
      }
    },
    {
      "cell_type": "code",
      "execution_count": 23,
      "metadata": {
        "colab": {
          "base_uri": "https://localhost:8080/"
        },
        "id": "kkG1KpzyyOxa",
        "outputId": "c5b6b06a-7441-4c6c-87b9-cca2fd9e5057"
      },
      "outputs": [
        {
          "output_type": "stream",
          "name": "stdout",
          "text": [
            "Collecting quanto==0.0.11\n",
            "  Using cached quanto-0.0.11-py3-none-any.whl (22 kB)\n",
            "Requirement already satisfied: torch>=2.1.1 in /usr/local/lib/python3.10/dist-packages (from quanto==0.0.11) (2.2.1+cu121)\n",
            "Requirement already satisfied: filelock in /usr/local/lib/python3.10/dist-packages (from torch>=2.1.1->quanto==0.0.11) (3.14.0)\n",
            "Requirement already satisfied: typing-extensions>=4.8.0 in /usr/local/lib/python3.10/dist-packages (from torch>=2.1.1->quanto==0.0.11) (4.11.0)\n",
            "Requirement already satisfied: sympy in /usr/local/lib/python3.10/dist-packages (from torch>=2.1.1->quanto==0.0.11) (1.12)\n",
            "Requirement already satisfied: networkx in /usr/local/lib/python3.10/dist-packages (from torch>=2.1.1->quanto==0.0.11) (3.3)\n",
            "Requirement already satisfied: jinja2 in /usr/local/lib/python3.10/dist-packages (from torch>=2.1.1->quanto==0.0.11) (3.1.3)\n",
            "Requirement already satisfied: fsspec in /usr/local/lib/python3.10/dist-packages (from torch>=2.1.1->quanto==0.0.11) (2023.6.0)\n",
            "Collecting nvidia-cuda-nvrtc-cu12==12.1.105 (from torch>=2.1.1->quanto==0.0.11)\n",
            "  Using cached nvidia_cuda_nvrtc_cu12-12.1.105-py3-none-manylinux1_x86_64.whl (23.7 MB)\n",
            "Collecting nvidia-cuda-runtime-cu12==12.1.105 (from torch>=2.1.1->quanto==0.0.11)\n",
            "  Using cached nvidia_cuda_runtime_cu12-12.1.105-py3-none-manylinux1_x86_64.whl (823 kB)\n",
            "Collecting nvidia-cuda-cupti-cu12==12.1.105 (from torch>=2.1.1->quanto==0.0.11)\n",
            "  Using cached nvidia_cuda_cupti_cu12-12.1.105-py3-none-manylinux1_x86_64.whl (14.1 MB)\n",
            "Collecting nvidia-cudnn-cu12==8.9.2.26 (from torch>=2.1.1->quanto==0.0.11)\n",
            "  Using cached nvidia_cudnn_cu12-8.9.2.26-py3-none-manylinux1_x86_64.whl (731.7 MB)\n",
            "Collecting nvidia-cublas-cu12==12.1.3.1 (from torch>=2.1.1->quanto==0.0.11)\n",
            "  Using cached nvidia_cublas_cu12-12.1.3.1-py3-none-manylinux1_x86_64.whl (410.6 MB)\n",
            "Collecting nvidia-cufft-cu12==11.0.2.54 (from torch>=2.1.1->quanto==0.0.11)\n",
            "  Using cached nvidia_cufft_cu12-11.0.2.54-py3-none-manylinux1_x86_64.whl (121.6 MB)\n",
            "Collecting nvidia-curand-cu12==10.3.2.106 (from torch>=2.1.1->quanto==0.0.11)\n",
            "  Using cached nvidia_curand_cu12-10.3.2.106-py3-none-manylinux1_x86_64.whl (56.5 MB)\n",
            "Collecting nvidia-cusolver-cu12==11.4.5.107 (from torch>=2.1.1->quanto==0.0.11)\n",
            "  Using cached nvidia_cusolver_cu12-11.4.5.107-py3-none-manylinux1_x86_64.whl (124.2 MB)\n",
            "Collecting nvidia-cusparse-cu12==12.1.0.106 (from torch>=2.1.1->quanto==0.0.11)\n",
            "  Using cached nvidia_cusparse_cu12-12.1.0.106-py3-none-manylinux1_x86_64.whl (196.0 MB)\n",
            "Collecting nvidia-nccl-cu12==2.19.3 (from torch>=2.1.1->quanto==0.0.11)\n",
            "  Using cached nvidia_nccl_cu12-2.19.3-py3-none-manylinux1_x86_64.whl (166.0 MB)\n",
            "Collecting nvidia-nvtx-cu12==12.1.105 (from torch>=2.1.1->quanto==0.0.11)\n",
            "  Using cached nvidia_nvtx_cu12-12.1.105-py3-none-manylinux1_x86_64.whl (99 kB)\n",
            "Requirement already satisfied: triton==2.2.0 in /usr/local/lib/python3.10/dist-packages (from torch>=2.1.1->quanto==0.0.11) (2.2.0)\n",
            "Collecting nvidia-nvjitlink-cu12 (from nvidia-cusolver-cu12==11.4.5.107->torch>=2.1.1->quanto==0.0.11)\n",
            "  Using cached nvidia_nvjitlink_cu12-12.4.127-py3-none-manylinux2014_x86_64.whl (21.1 MB)\n",
            "Requirement already satisfied: MarkupSafe>=2.0 in /usr/local/lib/python3.10/dist-packages (from jinja2->torch>=2.1.1->quanto==0.0.11) (2.1.5)\n",
            "Requirement already satisfied: mpmath>=0.19 in /usr/local/lib/python3.10/dist-packages (from sympy->torch>=2.1.1->quanto==0.0.11) (1.3.0)\n",
            "Installing collected packages: nvidia-nvtx-cu12, nvidia-nvjitlink-cu12, nvidia-nccl-cu12, nvidia-curand-cu12, nvidia-cufft-cu12, nvidia-cuda-runtime-cu12, nvidia-cuda-nvrtc-cu12, nvidia-cuda-cupti-cu12, nvidia-cublas-cu12, nvidia-cusparse-cu12, nvidia-cudnn-cu12, nvidia-cusolver-cu12, quanto\n",
            "Successfully installed nvidia-cublas-cu12-12.1.3.1 nvidia-cuda-cupti-cu12-12.1.105 nvidia-cuda-nvrtc-cu12-12.1.105 nvidia-cuda-runtime-cu12-12.1.105 nvidia-cudnn-cu12-8.9.2.26 nvidia-cufft-cu12-11.0.2.54 nvidia-curand-cu12-10.3.2.106 nvidia-cusolver-cu12-11.4.5.107 nvidia-cusparse-cu12-12.1.0.106 nvidia-nccl-cu12-2.19.3 nvidia-nvjitlink-cu12-12.4.127 nvidia-nvtx-cu12-12.1.105 quanto-0.0.11\n"
          ]
        }
      ],
      "source": [
        "# !pip install torch==2.1.1\n",
        "# !pip install transformers==4.35.0\n",
        "!pip install quanto==0.0.11"
      ]
    },
    {
      "cell_type": "code",
      "source": [
        "import torch"
      ],
      "metadata": {
        "id": "CnnA4PXgRpQy"
      },
      "execution_count": 2,
      "outputs": []
    },
    {
      "cell_type": "markdown",
      "source": [
        "## Downcasting"
      ],
      "metadata": {
        "id": "SNvSwXKpRl8F"
      }
    },
    {
      "cell_type": "markdown",
      "source": [
        "Get a random pytorch tensor with float32 and size=100"
      ],
      "metadata": {
        "id": "NhIwtiQXSEPU"
      }
    },
    {
      "cell_type": "code",
      "source": [
        "tensor_fp32 = torch.rand(100, dtype = torch.float32)"
      ],
      "metadata": {
        "id": "2iZDcGv9Rlhq"
      },
      "execution_count": 3,
      "outputs": []
    },
    {
      "cell_type": "code",
      "source": [
        "tensor_fp32[:5]"
      ],
      "metadata": {
        "colab": {
          "base_uri": "https://localhost:8080/"
        },
        "id": "YbGcOF8iSTmo",
        "outputId": "173cce2a-5474-4287-80c4-2b46c12c96c6"
      },
      "execution_count": 4,
      "outputs": [
        {
          "output_type": "execute_result",
          "data": {
            "text/plain": [
              "tensor([0.6573, 0.7227, 0.5918, 0.5869, 0.6816])"
            ]
          },
          "metadata": {},
          "execution_count": 4
        }
      ]
    },
    {
      "cell_type": "markdown",
      "source": [
        "Let's downcast the tensor to bfloat16 using the \"to\" method"
      ],
      "metadata": {
        "id": "VTO7tOs8SKsi"
      }
    },
    {
      "cell_type": "code",
      "source": [
        "tensor_fp32_to_bf16 = tensor_fp32.to(dtype = torch.bfloat16)"
      ],
      "metadata": {
        "id": "_ecSxUldSC3d"
      },
      "execution_count": 5,
      "outputs": []
    },
    {
      "cell_type": "code",
      "source": [
        "tensor_fp32_to_bf16[:5]"
      ],
      "metadata": {
        "colab": {
          "base_uri": "https://localhost:8080/"
        },
        "id": "z09DzIGtSR8_",
        "outputId": "ab694e8d-bffe-4111-c7fb-d0c0c49436c8"
      },
      "execution_count": 6,
      "outputs": [
        {
          "output_type": "execute_result",
          "data": {
            "text/plain": [
              "tensor([0.6562, 0.7227, 0.5898, 0.5859, 0.6797], dtype=torch.bfloat16)"
            ]
          },
          "metadata": {},
          "execution_count": 6
        }
      ]
    },
    {
      "cell_type": "markdown",
      "source": [
        "## Compare Models in Different Dtypes"
      ],
      "metadata": {
        "id": "zJKpTUwny_is"
      }
    },
    {
      "cell_type": "code",
      "source": [
        "from transformers import BertForMaskedLM, BertTokenizer\n",
        "\n",
        "# Initialize a tokenizer and a pre-trained BERT model\n",
        "tokenizer = BertTokenizer.from_pretrained(\"bert-base-uncased\")\n",
        "model = BertForMaskedLM.from_pretrained(\"bert-base-uncased\")"
      ],
      "metadata": {
        "colab": {
          "base_uri": "https://localhost:8080/"
        },
        "id": "q087S7ILStK4",
        "outputId": "6b7acf10-725d-46d8-ba4f-20b443f285cd"
      },
      "execution_count": 13,
      "outputs": [
        {
          "output_type": "stream",
          "name": "stderr",
          "text": [
            "Some weights of the model checkpoint at bert-base-uncased were not used when initializing BertForMaskedLM: ['bert.pooler.dense.bias', 'bert.pooler.dense.weight', 'cls.seq_relationship.bias', 'cls.seq_relationship.weight']\n",
            "- This IS expected if you are initializing BertForMaskedLM from the checkpoint of a model trained on another task or with another architecture (e.g. initializing a BertForSequenceClassification model from a BertForPreTraining model).\n",
            "- This IS NOT expected if you are initializing BertForMaskedLM from the checkpoint of a model that you expect to be exactly identical (initializing a BertForSequenceClassification model from a BertForSequenceClassification model).\n"
          ]
        }
      ]
    },
    {
      "cell_type": "code",
      "source": [
        "# Tokenize an example text\n",
        "text = \"Let's compare the memory footprint of open-source models to understand the impact of different data types for a language task. In this blog we use BertForMaskedLM for example, if you would like to explore different modalities, the course uses BlipForConditionalGeneration for images.\"\n",
        "input_ids = tokenizer(text, return_tensors=\"pt\").input_ids"
      ],
      "metadata": {
        "id": "hO3FIG5mYVVO"
      },
      "execution_count": 14,
      "outputs": []
    },
    {
      "cell_type": "code",
      "source": [
        "# Get logits from the original FP32 model\n",
        "logits_fp32 = model(input_ids).logits\n",
        "\n",
        "# Convert to BF16\n",
        "model_bf16 = model.to(torch.bfloat16)\n",
        "\n",
        "# Get logits from the BF16 models\n",
        "logits_bf16 = model_bf16(input_ids).logits"
      ],
      "metadata": {
        "id": "_YSsK6DlYZXO"
      },
      "execution_count": 15,
      "outputs": []
    },
    {
      "cell_type": "code",
      "source": [
        "# Calculate mean and max differences between FP32 and BF16\n",
        "mean_diff = torch.abs(logits_bf16 - logits_fp32).mean().item()\n",
        "max_diff = torch.abs(logits_bf16 - logits_fp32).max().item()\n",
        "\n",
        "print(\"Mean difference between FP32 and BF16:\", mean_diff)\n",
        "print(\"Max difference between FP32 and BF16:\", max_diff)"
      ],
      "metadata": {
        "colab": {
          "base_uri": "https://localhost:8080/"
        },
        "id": "AGcLv1LiTA7G",
        "outputId": "185b324d-c497-44d2-8a8f-89aff61c0a55"
      },
      "execution_count": 16,
      "outputs": [
        {
          "output_type": "stream",
          "name": "stdout",
          "text": [
            "Mean difference between FP32 and BF16: 0.03718937560915947\n",
            "Max difference between FP32 and BF16: 0.4945411682128906\n"
          ]
        }
      ]
    },
    {
      "cell_type": "code",
      "source": [
        "# Memory footprint in bytes for FP32\n",
        "memory_fp32 = model.get_memory_footprint()\n",
        "# Memory footprint in bytes for BF16\n",
        "memory_bf16 = model_bf16.get_memory_footprint()\n",
        "print(\"Memory footprint (FP32):\", memory_fp32)\n",
        "print(\"Memory footprint (BF16):\", memory_bf16)"
      ],
      "metadata": {
        "colab": {
          "base_uri": "https://localhost:8080/"
        },
        "id": "YM3Nn8BZTCvD",
        "outputId": "fe540cd3-814c-4506-e7c6-cdacfbf8d024"
      },
      "execution_count": 18,
      "outputs": [
        {
          "output_type": "stream",
          "name": "stdout",
          "text": [
            "Memory footprint (FP32): 219036788\n",
            "Memory footprint (BF16): 219036788\n"
          ]
        }
      ]
    },
    {
      "cell_type": "markdown",
      "source": [
        "### Compare memory footprint"
      ],
      "metadata": {
        "id": "5pvtDYbBc1WB"
      }
    },
    {
      "cell_type": "code",
      "source": [
        "model = BertForMaskedLM.from_pretrained(\"bert-base-uncased\")"
      ],
      "metadata": {
        "colab": {
          "base_uri": "https://localhost:8080/"
        },
        "id": "tEai1oGvcTON",
        "outputId": "8669c96f-b053-4ac2-bf08-08c2ad7a4764"
      },
      "execution_count": 21,
      "outputs": [
        {
          "output_type": "stream",
          "name": "stderr",
          "text": [
            "Some weights of the model checkpoint at bert-base-uncased were not used when initializing BertForMaskedLM: ['bert.pooler.dense.bias', 'bert.pooler.dense.weight', 'cls.seq_relationship.bias', 'cls.seq_relationship.weight']\n",
            "- This IS expected if you are initializing BertForMaskedLM from the checkpoint of a model trained on another task or with another architecture (e.g. initializing a BertForSequenceClassification model from a BertForPreTraining model).\n",
            "- This IS NOT expected if you are initializing BertForMaskedLM from the checkpoint of a model that you expect to be exactly identical (initializing a BertForSequenceClassification model from a BertForSequenceClassification model).\n"
          ]
        },
        {
          "output_type": "stream",
          "name": "stdout",
          "text": [
            "Footprint of the fp32 model in bytes:  438065384\n",
            "Footprint of the fp32 model in MBs:  438.065384\n"
          ]
        }
      ]
    },
    {
      "cell_type": "code",
      "source": [
        "fp32_mem_footprint = model.get_memory_footprint()\n",
        "print(\"Footprint of the fp32 model in bytes: \",\n",
        "      fp32_mem_footprint)\n",
        "print(\"Footprint of the fp32 model in MBs: \",\n",
        "      fp32_mem_footprint/1e+6)"
      ],
      "metadata": {
        "id": "ne2tzHN8dpZn"
      },
      "execution_count": null,
      "outputs": []
    },
    {
      "cell_type": "code",
      "source": [
        "model_bf16 = BertForMaskedLM.from_pretrained(\"bert-base-uncased\",\n",
        "                               torch_dtype=torch.bfloat16,\n",
        "                               ignore_mismatched_sizes=True)"
      ],
      "metadata": {
        "colab": {
          "base_uri": "https://localhost:8080/"
        },
        "id": "fXiQb8tYdEWr",
        "outputId": "bf4376a0-1158-4e0f-af76-95fd3707909b"
      },
      "execution_count": 20,
      "outputs": [
        {
          "output_type": "stream",
          "name": "stderr",
          "text": [
            "Some weights of the model checkpoint at bert-base-uncased were not used when initializing BertForMaskedLM: ['bert.pooler.dense.bias', 'bert.pooler.dense.weight', 'cls.seq_relationship.bias', 'cls.seq_relationship.weight']\n",
            "- This IS expected if you are initializing BertForMaskedLM from the checkpoint of a model trained on another task or with another architecture (e.g. initializing a BertForSequenceClassification model from a BertForPreTraining model).\n",
            "- This IS NOT expected if you are initializing BertForMaskedLM from the checkpoint of a model that you expect to be exactly identical (initializing a BertForSequenceClassification model from a BertForSequenceClassification model).\n"
          ]
        },
        {
          "output_type": "stream",
          "name": "stdout",
          "text": [
            "Footprint of the bf16 model in MBs:  219.036788\n",
            "Relative diff: 0.500009350202389\n"
          ]
        }
      ]
    },
    {
      "cell_type": "code",
      "source": [
        "bf16_mem_footprint = model_bf16.get_memory_footprint()\n",
        "\n",
        "# Get the relative difference\n",
        "relative_diff = bf16_mem_footprint / fp32_mem_footprint\n",
        "\n",
        "print(\"Footprint of the bf16 model in MBs: \",\n",
        "      bf16_mem_footprint/1e+6)\n",
        "print(f\"Relative diff: {relative_diff}\")"
      ],
      "metadata": {
        "id": "X-bYFKE6drID"
      },
      "execution_count": null,
      "outputs": []
    },
    {
      "cell_type": "markdown",
      "source": [
        "## Quanto Library"
      ],
      "metadata": {
        "id": "QgMZVEq1eTnA"
      }
    },
    {
      "cell_type": "code",
      "source": [
        "from quanto import quantize, freeze"
      ],
      "metadata": {
        "id": "G55JyDS-eT7d"
      },
      "execution_count": 24,
      "outputs": []
    },
    {
      "cell_type": "markdown",
      "source": [
        "Let's see how to quantize the model in 8-bit precision"
      ],
      "metadata": {
        "id": "4xV7o7dwfL1t"
      }
    },
    {
      "cell_type": "code",
      "source": [
        "quantize(model, weights=torch.int8, activations=None)\n",
        "print(model)"
      ],
      "metadata": {
        "colab": {
          "base_uri": "https://localhost:8080/"
        },
        "id": "kGPqWae_eVKX",
        "outputId": "e0b36e6f-332e-498e-d427-ca560047c801"
      },
      "execution_count": 25,
      "outputs": [
        {
          "output_type": "stream",
          "name": "stdout",
          "text": [
            "BertForMaskedLM(\n",
            "  (bert): BertModel(\n",
            "    (embeddings): BertEmbeddings(\n",
            "      (word_embeddings): Embedding(30522, 768, padding_idx=0)\n",
            "      (position_embeddings): Embedding(512, 768)\n",
            "      (token_type_embeddings): Embedding(2, 768)\n",
            "      (LayerNorm): LayerNorm((768,), eps=1e-12, elementwise_affine=True)\n",
            "      (dropout): Dropout(p=0.1, inplace=False)\n",
            "    )\n",
            "    (encoder): BertEncoder(\n",
            "      (layer): ModuleList(\n",
            "        (0-11): 12 x BertLayer(\n",
            "          (attention): BertAttention(\n",
            "            (self): BertSelfAttention(\n",
            "              (query): QLinear(in_features=768, out_features=768, bias=True)\n",
            "              (key): QLinear(in_features=768, out_features=768, bias=True)\n",
            "              (value): QLinear(in_features=768, out_features=768, bias=True)\n",
            "              (dropout): Dropout(p=0.1, inplace=False)\n",
            "            )\n",
            "            (output): BertSelfOutput(\n",
            "              (dense): QLinear(in_features=768, out_features=768, bias=True)\n",
            "              (LayerNorm): LayerNorm((768,), eps=1e-12, elementwise_affine=True)\n",
            "              (dropout): Dropout(p=0.1, inplace=False)\n",
            "            )\n",
            "          )\n",
            "          (intermediate): BertIntermediate(\n",
            "            (dense): QLinear(in_features=768, out_features=3072, bias=True)\n",
            "            (intermediate_act_fn): GELUActivation()\n",
            "          )\n",
            "          (output): BertOutput(\n",
            "            (dense): QLinear(in_features=3072, out_features=768, bias=True)\n",
            "            (LayerNorm): LayerNorm((768,), eps=1e-12, elementwise_affine=True)\n",
            "            (dropout): Dropout(p=0.1, inplace=False)\n",
            "          )\n",
            "        )\n",
            "      )\n",
            "    )\n",
            "  )\n",
            "  (cls): BertOnlyMLMHead(\n",
            "    (predictions): BertLMPredictionHead(\n",
            "      (transform): BertPredictionHeadTransform(\n",
            "        (dense): QLinear(in_features=768, out_features=768, bias=True)\n",
            "        (transform_act_fn): GELUActivation()\n",
            "        (LayerNorm): LayerNorm((768,), eps=1e-12, elementwise_affine=True)\n",
            "      )\n",
            "      (decoder): QLinear(in_features=768, out_features=30522, bias=True)\n",
            "    )\n",
            "  )\n",
            ")\n"
          ]
        }
      ]
    },
    {
      "cell_type": "code",
      "source": [
        "freeze(model)"
      ],
      "metadata": {
        "id": "BLEErikce3Hs"
      },
      "execution_count": 26,
      "outputs": []
    }
  ]
}